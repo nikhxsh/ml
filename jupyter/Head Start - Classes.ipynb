{
 "cells": [
  {
   "cell_type": "code",
   "execution_count": 45,
   "metadata": {
    "collapsed": true
   },
   "outputs": [],
   "source": [
    "#Classes (by default a parameterless constructor is already provided with Class)\n",
    "\n",
    "class Account:\n",
    "    accountType = None                \n",
    "        \n",
    "    def __init__(self, id = None, holder = None, balance = None, type = \"Master\"): #Python does not have method overloading\n",
    "        self.id = id\n",
    "        self.holder = holder\n",
    "        self.balance = balance\n",
    "        self.accountType = type\n",
    "        \n",
    "    def __str__(self): # method override. This method is called whenever we are printing instance of claass\n",
    "        return self.GetAccountDetails()    \n",
    "        \n",
    "    def GetBalance(self):\n",
    "        print(f\"Balance is {self.balance}\") \n",
    "    \n",
    "    def GetAccountDetails(self):\n",
    "        return f\"{self.id} | {self.holder} | {self.accountType}\"\n",
    "        \n"
   ]
  },
  {
   "cell_type": "code",
   "execution_count": 46,
   "metadata": {
    "collapsed": true
   },
   "outputs": [],
   "source": [
    "#Inheritance\n",
    "\n",
    "class SavingAccount(Account):\n",
    "    \n",
    "    def __init__(self, accountNumber, holderName, balance):\n",
    "        super().__init__(accountNumber, holderName, balance, \"Savings\")\n",
    "        print(super().GetAccountDetails())\n",
    "        \n",
    "class CurrentAccount(Account):\n",
    "    \n",
    "    def __init__(self, accountNumber, holderName, balance):\n",
    "        super().__init__(accountNumber, holderName, balance,  \"Current\")\n",
    "        print(super().GetAccountDetails())"
   ]
  },
  {
   "cell_type": "code",
   "execution_count": 47,
   "metadata": {},
   "outputs": [
    {
     "name": "stdout",
     "output_type": "stream",
     "text": [
      "123456790 | Neha Goyal | Current\n",
      "123456791 | Ragnor Lothbroke | Current\n",
      "Balance is 300000\n",
      "Balance is 50000\n",
      "Balance is 80000\n",
      "None | None | Master\n",
      "Balance is None\n"
     ]
    }
   ],
   "source": [
    "nik = Account(123456789, \"Nikhilesh Shinde\", 300000)\n",
    "neha = CurrentAccount(123456790, \"Neha Goyal\", 50000)\n",
    "viking = CurrentAccount(123456791, \"Ragnor Lothbroke\", 80000)\n",
    "\n",
    "for account in (nik, neha, viking):\n",
    " account.GetBalance()\n",
    "    \n",
    "baseAccount = Account()\n",
    "print(baseAccount)\n",
    "baseAccount.GetBalance()"
   ]
  },
  {
   "cell_type": "code",
   "execution_count": null,
   "metadata": {
    "collapsed": true
   },
   "outputs": [],
   "source": []
  }
 ],
 "metadata": {
  "kernelspec": {
   "display_name": "Python 3",
   "language": "python",
   "name": "python3"
  }
 },
 "nbformat": 4,
 "nbformat_minor": 2
}
